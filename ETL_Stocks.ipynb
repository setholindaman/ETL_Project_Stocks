{
 "cells": [
  {
   "cell_type": "code",
   "execution_count": 14,
   "metadata": {},
   "outputs": [],
   "source": [
    "# Import dependencies\n",
    "import pandas as pd\n",
    "from bs4 import BeautifulSoup as bs\n",
    "import requests\n",
    "from splinter import Browser\n",
    "import datetime\n",
    "from sqlalchemy import create_engine"
   ]
  },
  {
   "cell_type": "markdown",
   "metadata": {},
   "source": [
    "### Stock market "
   ]
  },
  {
   "cell_type": "code",
   "execution_count": 15,
   "metadata": {},
   "outputs": [
    {
     "data": {
      "text/html": [
       "<div>\n",
       "<style scoped>\n",
       "    .dataframe tbody tr th:only-of-type {\n",
       "        vertical-align: middle;\n",
       "    }\n",
       "\n",
       "    .dataframe tbody tr th {\n",
       "        vertical-align: top;\n",
       "    }\n",
       "\n",
       "    .dataframe thead th {\n",
       "        text-align: right;\n",
       "    }\n",
       "</style>\n",
       "<table border=\"1\" class=\"dataframe\">\n",
       "  <thead>\n",
       "    <tr style=\"text-align: right;\">\n",
       "      <th></th>\n",
       "      <th>Symbol</th>\n",
       "      <th>Name</th>\n",
       "      <th>Price (Intraday)</th>\n",
       "      <th>Change</th>\n",
       "      <th>% Change</th>\n",
       "      <th>Volume</th>\n",
       "      <th>Avg Vol (3 month)</th>\n",
       "      <th>Market Cap</th>\n",
       "      <th>PE Ratio (TTM)</th>\n",
       "      <th>52 Week Range</th>\n",
       "    </tr>\n",
       "  </thead>\n",
       "  <tbody>\n",
       "    <tr>\n",
       "      <th>0</th>\n",
       "      <td>AMD</td>\n",
       "      <td>Advanced Micro Devices, Inc.</td>\n",
       "      <td>27.50</td>\n",
       "      <td>-0.51</td>\n",
       "      <td>-1.82%</td>\n",
       "      <td>65.385M</td>\n",
       "      <td>67.24M</td>\n",
       "      <td>29.744B</td>\n",
       "      <td>110.44</td>\n",
       "      <td>NaN</td>\n",
       "    </tr>\n",
       "    <tr>\n",
       "      <th>1</th>\n",
       "      <td>BAC</td>\n",
       "      <td>Bank of America Corporation</td>\n",
       "      <td>28.40</td>\n",
       "      <td>-0.19</td>\n",
       "      <td>-0.66%</td>\n",
       "      <td>43.148M</td>\n",
       "      <td>55.623M</td>\n",
       "      <td>270.033B</td>\n",
       "      <td>10.56</td>\n",
       "      <td>NaN</td>\n",
       "    </tr>\n",
       "    <tr>\n",
       "      <th>2</th>\n",
       "      <td>CHK</td>\n",
       "      <td>Chesapeake Energy Corporation</td>\n",
       "      <td>2.41</td>\n",
       "      <td>-0.12</td>\n",
       "      <td>-4.74%</td>\n",
       "      <td>41.815M</td>\n",
       "      <td>46.232M</td>\n",
       "      <td>3.894B</td>\n",
       "      <td>NaN</td>\n",
       "      <td>NaN</td>\n",
       "    </tr>\n",
       "    <tr>\n",
       "      <th>3</th>\n",
       "      <td>ABEV</td>\n",
       "      <td>Ambev S.A.</td>\n",
       "      <td>4.05</td>\n",
       "      <td>-0.09</td>\n",
       "      <td>-2.17%</td>\n",
       "      <td>37.682M</td>\n",
       "      <td>27.914M</td>\n",
       "      <td>64.003B</td>\n",
       "      <td>23.01</td>\n",
       "      <td>NaN</td>\n",
       "    </tr>\n",
       "    <tr>\n",
       "      <th>4</th>\n",
       "      <td>NOK</td>\n",
       "      <td>Nokia Corporation</td>\n",
       "      <td>4.94</td>\n",
       "      <td>-0.02</td>\n",
       "      <td>-0.40%</td>\n",
       "      <td>34.757M</td>\n",
       "      <td>26.316M</td>\n",
       "      <td>27.323B</td>\n",
       "      <td>NaN</td>\n",
       "      <td>NaN</td>\n",
       "    </tr>\n",
       "  </tbody>\n",
       "</table>\n",
       "</div>"
      ],
      "text/plain": [
       "  Symbol                           Name  Price (Intraday)  Change % Change  \\\n",
       "0    AMD   Advanced Micro Devices, Inc.             27.50   -0.51   -1.82%   \n",
       "1    BAC    Bank of America Corporation             28.40   -0.19   -0.66%   \n",
       "2    CHK  Chesapeake Energy Corporation              2.41   -0.12   -4.74%   \n",
       "3   ABEV                     Ambev S.A.              4.05   -0.09   -2.17%   \n",
       "4    NOK              Nokia Corporation              4.94   -0.02   -0.40%   \n",
       "\n",
       "    Volume Avg Vol (3 month) Market Cap  PE Ratio (TTM)  52 Week Range  \n",
       "0  65.385M            67.24M    29.744B          110.44            NaN  \n",
       "1  43.148M           55.623M   270.033B           10.56            NaN  \n",
       "2  41.815M           46.232M     3.894B             NaN            NaN  \n",
       "3  37.682M           27.914M    64.003B           23.01            NaN  \n",
       "4  34.757M           26.316M    27.323B             NaN            NaN  "
      ]
     },
     "execution_count": 15,
     "metadata": {},
     "output_type": "execute_result"
    }
   ],
   "source": [
    "stocks_url = 'https://finance.yahoo.com/most-active?offset=0&count=50'\n",
    "tables = pd.read_html(stocks_url)\n",
    "stock_df = tables[0]\n",
    "stock_df.head()"
   ]
  },
  {
   "cell_type": "code",
   "execution_count": 16,
   "metadata": {},
   "outputs": [],
   "source": [
    "# Remove trailing letter and then convert datatype on the series of 'Market Cap' and 'Volume'\n",
    "market_cap_cleaned = stock_df['Market Cap'].str.rstrip('B')\n",
    "volume_cleaned = stock_df['Volume'].str.rstrip('M')\n",
    "percent_change = stock_df['% Change'].str.rstrip('%')\n",
    "\n",
    "market_cap_converted = market_cap_cleaned.astype(float)\n",
    "volume_converted = volume_cleaned.astype(float)\n",
    "percent_change_converted = percent_change.astype(float)\n",
    "\n",
    "stock_df.drop(labels = 'Market Cap', axis=1, inplace=True)\n",
    "stock_df.drop(labels = 'Volume', axis=1, inplace=True)\n",
    "stock_df.drop(labels = '% Change', axis=1, inplace=True)\n",
    "\n",
    "stock_df['Market Cap ($Bil.)'] = market_cap_converted\n",
    "stock_df['Volume (Mil.)'] = volume_converted\n",
    "stock_df['Percent_Change'] = percent_change_converted"
   ]
  },
  {
   "cell_type": "code",
   "execution_count": 17,
   "metadata": {},
   "outputs": [
    {
     "data": {
      "text/html": [
       "<div>\n",
       "<style scoped>\n",
       "    .dataframe tbody tr th:only-of-type {\n",
       "        vertical-align: middle;\n",
       "    }\n",
       "\n",
       "    .dataframe tbody tr th {\n",
       "        vertical-align: top;\n",
       "    }\n",
       "\n",
       "    .dataframe thead th {\n",
       "        text-align: right;\n",
       "    }\n",
       "</style>\n",
       "<table border=\"1\" class=\"dataframe\">\n",
       "  <thead>\n",
       "    <tr style=\"text-align: right;\">\n",
       "      <th></th>\n",
       "      <th>Symbol</th>\n",
       "      <th>Name</th>\n",
       "      <th>Price (Intraday)</th>\n",
       "      <th>Change</th>\n",
       "      <th>Avg Vol (3 month)</th>\n",
       "      <th>PE Ratio (TTM)</th>\n",
       "      <th>52 Week Range</th>\n",
       "      <th>Market Cap ($Bil.)</th>\n",
       "      <th>Volume (Mil.)</th>\n",
       "      <th>Percent_Change</th>\n",
       "    </tr>\n",
       "  </thead>\n",
       "  <tbody>\n",
       "    <tr>\n",
       "      <th>0</th>\n",
       "      <td>AMD</td>\n",
       "      <td>Advanced Micro Devices, Inc.</td>\n",
       "      <td>27.50</td>\n",
       "      <td>-0.51</td>\n",
       "      <td>67.24M</td>\n",
       "      <td>110.44</td>\n",
       "      <td>NaN</td>\n",
       "      <td>29.744</td>\n",
       "      <td>65.385</td>\n",
       "      <td>-1.82</td>\n",
       "    </tr>\n",
       "    <tr>\n",
       "      <th>1</th>\n",
       "      <td>BAC</td>\n",
       "      <td>Bank of America Corporation</td>\n",
       "      <td>28.40</td>\n",
       "      <td>-0.19</td>\n",
       "      <td>55.623M</td>\n",
       "      <td>10.56</td>\n",
       "      <td>NaN</td>\n",
       "      <td>270.033</td>\n",
       "      <td>43.148</td>\n",
       "      <td>-0.66</td>\n",
       "    </tr>\n",
       "    <tr>\n",
       "      <th>2</th>\n",
       "      <td>CHK</td>\n",
       "      <td>Chesapeake Energy Corporation</td>\n",
       "      <td>2.41</td>\n",
       "      <td>-0.12</td>\n",
       "      <td>46.232M</td>\n",
       "      <td>NaN</td>\n",
       "      <td>NaN</td>\n",
       "      <td>3.894</td>\n",
       "      <td>41.815</td>\n",
       "      <td>-4.74</td>\n",
       "    </tr>\n",
       "    <tr>\n",
       "      <th>3</th>\n",
       "      <td>ABEV</td>\n",
       "      <td>Ambev S.A.</td>\n",
       "      <td>4.05</td>\n",
       "      <td>-0.09</td>\n",
       "      <td>27.914M</td>\n",
       "      <td>23.01</td>\n",
       "      <td>NaN</td>\n",
       "      <td>64.003</td>\n",
       "      <td>37.682</td>\n",
       "      <td>-2.17</td>\n",
       "    </tr>\n",
       "    <tr>\n",
       "      <th>4</th>\n",
       "      <td>NOK</td>\n",
       "      <td>Nokia Corporation</td>\n",
       "      <td>4.94</td>\n",
       "      <td>-0.02</td>\n",
       "      <td>26.316M</td>\n",
       "      <td>NaN</td>\n",
       "      <td>NaN</td>\n",
       "      <td>27.323</td>\n",
       "      <td>34.757</td>\n",
       "      <td>-0.40</td>\n",
       "    </tr>\n",
       "  </tbody>\n",
       "</table>\n",
       "</div>"
      ],
      "text/plain": [
       "  Symbol                           Name  Price (Intraday)  Change  \\\n",
       "0    AMD   Advanced Micro Devices, Inc.             27.50   -0.51   \n",
       "1    BAC    Bank of America Corporation             28.40   -0.19   \n",
       "2    CHK  Chesapeake Energy Corporation              2.41   -0.12   \n",
       "3   ABEV                     Ambev S.A.              4.05   -0.09   \n",
       "4    NOK              Nokia Corporation              4.94   -0.02   \n",
       "\n",
       "  Avg Vol (3 month)  PE Ratio (TTM)  52 Week Range  Market Cap ($Bil.)  \\\n",
       "0            67.24M          110.44            NaN              29.744   \n",
       "1           55.623M           10.56            NaN             270.033   \n",
       "2           46.232M             NaN            NaN               3.894   \n",
       "3           27.914M           23.01            NaN              64.003   \n",
       "4           26.316M             NaN            NaN              27.323   \n",
       "\n",
       "   Volume (Mil.)  Percent_Change  \n",
       "0         65.385           -1.82  \n",
       "1         43.148           -0.66  \n",
       "2         41.815           -4.74  \n",
       "3         37.682           -2.17  \n",
       "4         34.757           -0.40  "
      ]
     },
     "execution_count": 17,
     "metadata": {},
     "output_type": "execute_result"
    }
   ],
   "source": [
    "stock_df.head()"
   ]
  },
  {
   "cell_type": "code",
   "execution_count": 18,
   "metadata": {},
   "outputs": [
    {
     "name": "stderr",
     "output_type": "stream",
     "text": [
      "C:\\Users\\setho\\Anaconda3\\lib\\site-packages\\pandas\\core\\frame.py:3697: SettingWithCopyWarning: \n",
      "A value is trying to be set on a copy of a slice from a DataFrame\n",
      "\n",
      "See the caveats in the documentation: http://pandas.pydata.org/pandas-docs/stable/indexing.html#indexing-view-versus-copy\n",
      "  errors=errors)\n"
     ]
    },
    {
     "data": {
      "text/html": [
       "<div>\n",
       "<style scoped>\n",
       "    .dataframe tbody tr th:only-of-type {\n",
       "        vertical-align: middle;\n",
       "    }\n",
       "\n",
       "    .dataframe tbody tr th {\n",
       "        vertical-align: top;\n",
       "    }\n",
       "\n",
       "    .dataframe thead th {\n",
       "        text-align: right;\n",
       "    }\n",
       "</style>\n",
       "<table border=\"1\" class=\"dataframe\">\n",
       "  <thead>\n",
       "    <tr style=\"text-align: right;\">\n",
       "      <th></th>\n",
       "      <th>Symbol</th>\n",
       "      <th>Name</th>\n",
       "      <th>Price (Intraday)</th>\n",
       "      <th>Change</th>\n",
       "      <th>Avg Vol (3 month)</th>\n",
       "      <th>PE Ratio (TTM)</th>\n",
       "      <th>52 Week Range</th>\n",
       "      <th>Market Cap ($Bil.)</th>\n",
       "      <th>Volume (Mil.)</th>\n",
       "      <th>Percent_Change</th>\n",
       "      <th>Time</th>\n",
       "    </tr>\n",
       "  </thead>\n",
       "  <tbody>\n",
       "    <tr>\n",
       "      <th>0</th>\n",
       "      <td>BAC</td>\n",
       "      <td>Bank of America Corporation</td>\n",
       "      <td>28.40</td>\n",
       "      <td>-0.19</td>\n",
       "      <td>55.623M</td>\n",
       "      <td>10.56</td>\n",
       "      <td>NaN</td>\n",
       "      <td>270.033</td>\n",
       "      <td>43.148</td>\n",
       "      <td>-0.66</td>\n",
       "      <td>2019-05-18 11:29:44.777538</td>\n",
       "    </tr>\n",
       "    <tr>\n",
       "      <th>1</th>\n",
       "      <td>AAPL</td>\n",
       "      <td>Apple Inc.</td>\n",
       "      <td>189.00</td>\n",
       "      <td>-1.08</td>\n",
       "      <td>28.748M</td>\n",
       "      <td>15.90</td>\n",
       "      <td>NaN</td>\n",
       "      <td>869.604</td>\n",
       "      <td>32.879</td>\n",
       "      <td>-0.57</td>\n",
       "      <td>2019-05-18 11:29:44.777538</td>\n",
       "    </tr>\n",
       "    <tr>\n",
       "      <th>2</th>\n",
       "      <td>T</td>\n",
       "      <td>AT&amp;T Inc.</td>\n",
       "      <td>31.80</td>\n",
       "      <td>0.18</td>\n",
       "      <td>29.111M</td>\n",
       "      <td>11.99</td>\n",
       "      <td>NaN</td>\n",
       "      <td>232.076</td>\n",
       "      <td>30.412</td>\n",
       "      <td>0.57</td>\n",
       "      <td>2019-05-18 11:29:44.777538</td>\n",
       "    </tr>\n",
       "    <tr>\n",
       "      <th>3</th>\n",
       "      <td>PFE</td>\n",
       "      <td>Pfizer Inc.</td>\n",
       "      <td>41.47</td>\n",
       "      <td>-0.17</td>\n",
       "      <td>23.36M</td>\n",
       "      <td>21.30</td>\n",
       "      <td>NaN</td>\n",
       "      <td>230.233</td>\n",
       "      <td>25.060</td>\n",
       "      <td>-0.41</td>\n",
       "      <td>2019-05-18 11:29:44.777538</td>\n",
       "    </tr>\n",
       "    <tr>\n",
       "      <th>4</th>\n",
       "      <td>MSFT</td>\n",
       "      <td>Microsoft Corporation</td>\n",
       "      <td>128.07</td>\n",
       "      <td>-0.86</td>\n",
       "      <td>25.084M</td>\n",
       "      <td>28.45</td>\n",
       "      <td>NaN</td>\n",
       "      <td>981.377</td>\n",
       "      <td>25.771</td>\n",
       "      <td>-0.67</td>\n",
       "      <td>2019-05-18 11:29:44.777538</td>\n",
       "    </tr>\n",
       "  </tbody>\n",
       "</table>\n",
       "</div>"
      ],
      "text/plain": [
       "  Symbol                         Name  Price (Intraday)  Change  \\\n",
       "0    BAC  Bank of America Corporation             28.40   -0.19   \n",
       "1   AAPL                   Apple Inc.            189.00   -1.08   \n",
       "2      T                    AT&T Inc.             31.80    0.18   \n",
       "3    PFE                  Pfizer Inc.             41.47   -0.17   \n",
       "4   MSFT        Microsoft Corporation            128.07   -0.86   \n",
       "\n",
       "  Avg Vol (3 month)  PE Ratio (TTM)  52 Week Range  Market Cap ($Bil.)  \\\n",
       "0           55.623M           10.56            NaN             270.033   \n",
       "1           28.748M           15.90            NaN             869.604   \n",
       "2           29.111M           11.99            NaN             232.076   \n",
       "3            23.36M           21.30            NaN             230.233   \n",
       "4           25.084M           28.45            NaN             981.377   \n",
       "\n",
       "   Volume (Mil.)  Percent_Change                       Time  \n",
       "0         43.148           -0.66 2019-05-18 11:29:44.777538  \n",
       "1         32.879           -0.57 2019-05-18 11:29:44.777538  \n",
       "2         30.412            0.57 2019-05-18 11:29:44.777538  \n",
       "3         25.060           -0.41 2019-05-18 11:29:44.777538  \n",
       "4         25.771           -0.67 2019-05-18 11:29:44.777538  "
      ]
     },
     "execution_count": 18,
     "metadata": {},
     "output_type": "execute_result"
    }
   ],
   "source": [
    "stock_df['Time'] = datetime.datetime.now()\n",
    "stock_df_filtered = stock_df[stock_df['Market Cap ($Bil.)'] > 100.0]\n",
    "\n",
    "stock_df_filtered.reset_index(inplace=True)\n",
    "stock_df_filtered.drop(labels = 'index', axis=1, inplace=True)\n",
    "stock_df_filtered.head()"
   ]
  },
  {
   "cell_type": "code",
   "execution_count": 19,
   "metadata": {},
   "outputs": [],
   "source": [
    "# executable_path = {'executable_path': 'chromedriver.exe'}\n",
    "# browser = Browser('chrome', **executable_path, headless=False)\n",
    "# time.sleep(10)"
   ]
  },
  {
   "cell_type": "code",
   "execution_count": 20,
   "metadata": {},
   "outputs": [],
   "source": [
    "# news_url = 'https://finance.yahoo.com/news/'\n",
    "# browser.visit(news_url)"
   ]
  },
  {
   "cell_type": "code",
   "execution_count": 21,
   "metadata": {},
   "outputs": [
    {
     "name": "stdout",
     "output_type": "stream",
     "text": [
      "2019-05-18 11:29:45.156455\n"
     ]
    }
   ],
   "source": [
    "# browser.fill('input', stock_df.Symbol[0])\n",
    "print(datetime.datetime.now())"
   ]
  },
  {
   "cell_type": "code",
   "execution_count": 22,
   "metadata": {},
   "outputs": [],
   "source": [
    "rds_connection_string = \"root:Greenman!98@localhost\"\n",
    "engine = create_engine(f'mysql://{rds_connection_string}')"
   ]
  },
  {
   "cell_type": "code",
   "execution_count": 23,
   "metadata": {},
   "outputs": [
    {
     "data": {
      "text/plain": [
       "<sqlalchemy.engine.result.ResultProxy at 0x1971c4277b8>"
      ]
     },
     "execution_count": 23,
     "metadata": {},
     "output_type": "execute_result"
    }
   ],
   "source": [
    "engine.execute('CREATE DATABASE IF NOT EXISTS wolves_db')"
   ]
  },
  {
   "cell_type": "code",
   "execution_count": 24,
   "metadata": {},
   "outputs": [
    {
     "data": {
      "text/plain": [
       "<sqlalchemy.engine.result.ResultProxy at 0x1971c41d1d0>"
      ]
     },
     "execution_count": 24,
     "metadata": {},
     "output_type": "execute_result"
    }
   ],
   "source": [
    "engine.execute('USE wolves_db')"
   ]
  },
  {
   "cell_type": "code",
   "execution_count": 25,
   "metadata": {},
   "outputs": [],
   "source": [
    "stock_df_filtered.to_sql(name='market_data', con=engine, if_exists='append', index=False)"
   ]
  },
  {
   "cell_type": "code",
   "execution_count": null,
   "metadata": {},
   "outputs": [],
   "source": []
  }
 ],
 "metadata": {
  "kernelspec": {
   "display_name": "Python 3",
   "language": "python",
   "name": "python3"
  },
  "language_info": {
   "codemirror_mode": {
    "name": "ipython",
    "version": 3
   },
   "file_extension": ".py",
   "mimetype": "text/x-python",
   "name": "python",
   "nbconvert_exporter": "python",
   "pygments_lexer": "ipython3",
   "version": "3.7.0"
  }
 },
 "nbformat": 4,
 "nbformat_minor": 2
}
